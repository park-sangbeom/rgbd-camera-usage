{
 "cells": [
  {
   "cell_type": "code",
   "execution_count": 1,
   "metadata": {},
   "outputs": [
    {
     "name": "stdout",
     "output_type": "stream",
     "text": [
      "Done.\n"
     ]
    }
   ],
   "source": [
    "import sys \n",
    "sys.path.append(\"..\")\n",
    "import cv2 \n",
    "from get_rostopic import RealsenseD435i\n",
    "import numpy as np \n",
    "import rospy \n",
    "import matplotlib.pyplot as plt \n",
    "from utils.utils_pcl import ros_to_pcl, ros_to_numpy, XYZRGB_to_XYZ\n",
    "from utils.utils_pointcloud import * \n",
    "print(\"Done.\")\n"
   ]
  },
  {
   "cell_type": "code",
   "execution_count": 2,
   "metadata": {},
   "outputs": [],
   "source": [
    "rospy.init_node('ZED')\n",
    "mode     = \"pointcloud\"\n",
    "camera   = RealsenseD435i(mode=mode)\n",
    "pcl_data = ros_to_pcl(camera.point_cloud)\n",
    "print(\"Type: {}\".format(type(pcl_data)))\n",
    "np_data = ros_to_numpy(camera.point_cloud)\n",
    "print(np_data.shape)\n"
   ]
  },
  {
   "cell_type": "code",
   "execution_count": 3,
   "metadata": {},
   "outputs": [],
   "source": [
    "# fig=plt.figure(figsize=(12,12))\n",
    "# ax = fig.gca(projection=\"3d\")\n",
    "# ax.set_xlabel(\"X\")\n",
    "# ax.set_ylabel(\"Y\")\n",
    "# ax.set_zlabel(\"Z\")\n",
    "# plt.title(\"PointCloud\")\n",
    "# #ax.view_init(30,60)\n",
    "# for data in np_data: \n",
    "#     ax.scatter(data[0], data[1], data[2], s=0.01)"
   ]
  }
 ],
 "metadata": {
  "kernelspec": {
   "display_name": "Python 3.8.10 64-bit",
   "language": "python",
   "name": "python3"
  },
  "language_info": {
   "codemirror_mode": {
    "name": "ipython",
    "version": 3
   },
   "file_extension": ".py",
   "mimetype": "text/x-python",
   "name": "python",
   "nbconvert_exporter": "python",
   "pygments_lexer": "ipython3",
   "version": "3.8.10"
  },
  "orig_nbformat": 4,
  "vscode": {
   "interpreter": {
    "hash": "e7370f93d1d0cde622a1f8e1c04877d8463912d04d973331ad4851f04de6915a"
   }
  }
 },
 "nbformat": 4,
 "nbformat_minor": 2
}
