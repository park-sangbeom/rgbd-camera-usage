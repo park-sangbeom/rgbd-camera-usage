{
 "cells": [
  {
   "cell_type": "code",
   "execution_count": null,
   "metadata": {},
   "outputs": [],
   "source": [
    "import pyrealsense2 as rs\n",
    "import matplotlib.pyplot as plt \n",
    "import numpy as np\n",
    "import cv2\n",
    "\n",
    "pipeline = rs.pipeline()    # realsense pipeline open\n",
    "config = rs.config()        # config class 생성!\n",
    "config.enable_stream(rs.stream.depth, 640, 480, rs.format.z16, 30)  # stream 종류, size, format 설정등록\n",
    "config.enable_stream(rs.stream.color, 640, 480, rs.format.bgr8, 30)\n",
    "\n",
    "profile = pipeline.start(config)   # pipeline start\n",
    "\n",
    "depth_sensor = profile.get_device().first_depth_sensor()    # depth sensor에 대한 것들을 얻자\n",
    "depth_scale = depth_sensor.get_depth_scale()                # 깊이 센서의 깊이 스케일 얻음\n",
    "print(\"Depth Scale is: \", depth_scale)\n",
    "\n",
    "clipping_distance_in_meters = 1    # 1 meter, 클리핑할 영역을 1m로 설정\n",
    "clipping_distance = clipping_distance_in_meters / depth_scale   #스케일에 따른 클리핑 거리\n",
    "\n",
    "align_to = rs.stream.color      #depth 이미지를 맞추기 위한 이미지, 컬러 이미지\n",
    "align = rs.align(align_to)      #depth 이미지와 맞추기 위해 align 생성\n",
    "\n",
    "try:\n",
    "    frames = pipeline.wait_for_frames() #color와 depth의 프레임셋을 기다림\n",
    "    #frames.get_depth_frame() 은 640x360 depth 이미지이다.\n",
    "\n",
    "    aligned_frames= align.process(frames)   #모든(depth 포함) 프레임을 컬러 프레임에 맞추어 반환\n",
    "\n",
    "    aligned_depth_frame = aligned_frames.get_depth_frame()  #  aligned depth 프레임은 640x480 의 depth 이미지이다\n",
    "    color_frame = aligned_frames.get_color_frame()      #컬러 프레임을 얻음\n",
    "\n",
    "    # Apply filter to fill the Holes in the depth image\n",
    "    spatial = rs.spatial_filter()\n",
    "    spatial.set_option(rs.option.holes_fill, 3)\n",
    "    filtered_depth = spatial.process(aligned_depth_frame)\n",
    "\n",
    "    hole_filling = rs.hole_filling_filter()\n",
    "    filled_depth = hole_filling.process(filtered_depth)\n",
    "\n",
    "\n",
    "    # Create colormap to show the depth of the Objects\n",
    "    colorizer = rs.colorizer()\n",
    "    depth_colormap = np.asanyarray(colorizer.colorize(filled_depth).get_data())\n",
    "\n",
    "\n",
    "    # Convert images to numpy arrays\n",
    "    distance = aligned_depth_frame.get_distance(int(50),int(50))\n",
    "    print(\"distance\", distance)\n",
    "    depth_image = np.asanyarray(filled_depth.get_data())\n",
    "\n",
    "\n",
    "    depth_image = np.asanyarray(aligned_depth_frame.get_data())     #depth이미지를 배열로, \n",
    "    color_image = np.asanyarray(color_frame.get_data())             #color 이미지를 배열로\n",
    "    np.save('./depth.npy' , depth_image)\n",
    "\n",
    "    #백그라운드 제거\n",
    "    grey_color = 153\n",
    "    depth_image_3d = np.dstack((depth_image, depth_image, depth_image))  #depth image는 1채널, 컬러 이미지는 3채널\n",
    "    bg_removed = np.where((depth_image_3d > clipping_distance) | (depth_image_3d <= 0), grey_color, color_image)\n",
    "    # 클리핑 거리를 깊이 _이미지가 넘어서거나, 0보다 적으면, 회색으로 아니면 컬러 이미지로 반환\n",
    "\n",
    "    #이미지 렌더링\n",
    "    depth_colormap = cv2.applyColorMap(cv2.convertScaleAbs(depth_image, alpha=0.03), cv2.COLORMAP_JET)\n",
    "        # applyColorMap(src, 필터) 필터를 적용함 , COLORMAP_JET=  연속적인 색상, blue -> red\n",
    "        # convertScaleAbs: 인자적용 후 절대값, 8비트 반환\n",
    "\n",
    "    images = np.hstack((bg_removed, depth_colormap))  #두 이미지를 수평으로 연결\n",
    "    cv2.namedWindow('Align Example', cv2.WINDOW_AUTOSIZE)   #이미지 윈도우 정의\n",
    "    cv2.imshow('Align Example', images)         #이미지를 넣어 윈도우에 보임\n",
    "    # np.save(\"./data/rs_multi_objs_4.npy\", images)\n",
    "finally:\n",
    "    pipeline.stop()     #리얼센스 데이터 스트리밍 중지\n"
   ]
  },
  {
   "cell_type": "code",
   "execution_count": null,
   "metadata": {},
   "outputs": [],
   "source": [
    "data = np.load('./depth.npy')\n",
    "plt.imshow(data)"
   ]
  }
 ],
 "metadata": {
  "kernelspec": {
   "display_name": "Python 3.8.10 64-bit",
   "language": "python",
   "name": "python3"
  },
  "language_info": {
   "name": "python",
   "version": "3.8.10"
  },
  "orig_nbformat": 4,
  "vscode": {
   "interpreter": {
    "hash": "e7370f93d1d0cde622a1f8e1c04877d8463912d04d973331ad4851f04de6915a"
   }
  }
 },
 "nbformat": 4,
 "nbformat_minor": 2
}
