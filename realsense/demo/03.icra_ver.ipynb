{
 "cells": [
  {
   "cell_type": "code",
   "execution_count": 1,
   "metadata": {},
   "outputs": [
    {
     "ename": "RuntimeError",
     "evalue": "No device connected",
     "output_type": "error",
     "traceback": [
      "\u001b[0;31m---------------------------------------------------------------------------\u001b[0m",
      "\u001b[0;31mRuntimeError\u001b[0m                              Traceback (most recent call last)",
      "Cell \u001b[0;32mIn [1], line 9\u001b[0m\n\u001b[1;32m      7\u001b[0m cfg \u001b[39m=\u001b[39m rs\u001b[39m.\u001b[39mconfig()\n\u001b[1;32m      8\u001b[0m cfg\u001b[39m.\u001b[39menable_stream(rs\u001b[39m.\u001b[39mstream\u001b[39m.\u001b[39mdepth, \u001b[39m640\u001b[39m, \u001b[39m480\u001b[39m, rs\u001b[39m.\u001b[39mformat\u001b[39m.\u001b[39mz16, \u001b[39m30\u001b[39m)\n\u001b[0;32m----> 9\u001b[0m pipeline_profile \u001b[39m=\u001b[39m pipe\u001b[39m.\u001b[39;49mstart(cfg)\n\u001b[1;32m     10\u001b[0m device \u001b[39m=\u001b[39m pipeline_profile\u001b[39m.\u001b[39mget_device()\n\u001b[1;32m     11\u001b[0m depth_sensor \u001b[39m=\u001b[39m device\u001b[39m.\u001b[39mquery_sensors()[\u001b[39m0\u001b[39m]\n",
      "\u001b[0;31mRuntimeError\u001b[0m: No device connected"
     ]
    }
   ],
   "source": [
    "import pyrealsense2 as rs\n",
    "import numpy as np\n",
    "import cv2\n",
    "\n",
    "img_shape = (320, 240)\n",
    "pipe = rs.pipeline()\n",
    "cfg = rs.config()\n",
    "cfg.enable_stream(rs.stream.depth, 640, 480, rs.format.z16, 30)\n",
    "pipeline_profile = pipe.start(cfg)\n",
    "device = pipeline_profile.get_device()\n",
    "depth_sensor = device.query_sensors()[0]\n",
    "emitter = depth_sensor.get_option(rs.option.emitter_enabled)\n",
    "print(\"emitter = \", emitter)\n",
    "set_emitter = 1\n",
    "depth_sensor.set_option(rs.option.emitter_enabled, set_emitter)\n",
    "emitter1 = depth_sensor.get_option(rs.option.emitter_enabled)\n",
    "print(\"new emitter = \", emitter1)\n",
    "# Declare filters\n",
    "dec_filter = rs.decimation_filter()   # Decimation - reduces depth frame density\n",
    "spat_filter = rs.spatial_filter()          # Spatial    - edge-preserving spatial smoothing\n",
    "temp_filter = rs.temporal_filter()    # Temporal   - reduces temporal noise\n",
    "hole_filter = rs.hole_filling_filter()\n",
    "threshold_filter = rs.threshold_filter()\n",
    "\n",
    "frames = pipe.wait_for_frames()\n",
    "depth_frame = frames.get_depth_frame()\n",
    "filtered = dec_filter.process(depth_frame)\n",
    "filtered = spat_filter.process(filtered)\n",
    "filtered = temp_filter.process(filtered)\n",
    "filtered = hole_filter.process(filtered)\n",
    "filtered = threshold_filter.process(filtered)\n",
    "\n",
    "data = np.asanyarray(filtered.get_data())\n",
    "# resize = cv2.resize(data, , interpolation=cv2.INTER_CUBIC)\n",
    "# resize = cv2.resize(data, )\n",
    "data = cv2.resize(data, img_shape, interpolation=cv2.INTER_CUBIC).astype('float32')\n",
    "print(np.min(data), np.max(data))\n",
    "cv_image_norm = cv2.normalize(data, data, 0, 1, cv2.NORM_MINMAX)\n",
    "cv2.imshow('Image', cv_image_norm*1)\n",
    "k = cv2.waitKey(0)\n",
    "if k == 27:\n",
    "    cv2.destroyAllWindows()\n",
    "\n",
    "print(np.average(data))\n",
    "np.savez('test_pyrealsense.npz', image = cv_image_norm)"
   ]
  },
  {
   "cell_type": "code",
   "execution_count": null,
   "metadata": {},
   "outputs": [],
   "source": []
  }
 ],
 "metadata": {
  "kernelspec": {
   "display_name": "Python 3.8.10 64-bit",
   "language": "python",
   "name": "python3"
  },
  "language_info": {
   "codemirror_mode": {
    "name": "ipython",
    "version": 3
   },
   "file_extension": ".py",
   "mimetype": "text/x-python",
   "name": "python",
   "nbconvert_exporter": "python",
   "pygments_lexer": "ipython3",
   "version": "3.8.10 (default, Nov 14 2022, 12:59:47) \n[GCC 9.4.0]"
  },
  "orig_nbformat": 4,
  "vscode": {
   "interpreter": {
    "hash": "e7370f93d1d0cde622a1f8e1c04877d8463912d04d973331ad4851f04de6915a"
   }
  }
 },
 "nbformat": 4,
 "nbformat_minor": 2
}
