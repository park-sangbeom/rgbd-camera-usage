{
 "cells": [
  {
   "cell_type": "code",
   "execution_count": 1,
   "metadata": {},
   "outputs": [
    {
     "name": "stdout",
     "output_type": "stream",
     "text": [
      "Done.\n"
     ]
    }
   ],
   "source": [
    "import sys \n",
    "sys.path.append(\"..\")\n",
    "import matplotlib.pyplot as plt \n",
    "from utils.utils_pcl import *\n",
    "from utils.utils_pointcloud import *\n",
    "import cv2 \n",
    "import rospy \n",
    "from get_rostopic import RealsenseD435i\n",
    "print(\"Done.\")"
   ]
  },
  {
   "cell_type": "code",
   "execution_count": 2,
   "metadata": {},
   "outputs": [],
   "source": [
    "def do_ransac_plane_normal_segmentation(point_cloud, input_max_distance):\n",
    "    segmenter = point_cloud.make_segmenter_normals(ksearch=50)\n",
    "    segmenter.set_optimize_coefficients(True)\n",
    "    segmenter.set_model_type(pcl.SACMODEL_NORMAL_PLANE)  #pcl_sac_model_plane\n",
    "    segmenter.set_normal_distance_weight(0.1)\n",
    "    segmenter.set_method_type(pcl.SAC_RANSAC) #pcl_sac_ransac\n",
    "    segmenter.set_max_iterations(100)\n",
    "    segmenter.set_distance_threshold(input_max_distance) #0.03)  #max_distance\n",
    "    indices, coefficients = segmenter.segment()\n",
    "\n",
    "    print('Model coefficients: ' + str(coefficients[0]) + ' ' + str(\n",
    "        coefficients[1]) + ' ' + str(coefficients[2]) + ' ' + str(coefficients[3]))\n",
    "\n",
    "    print('Model inliers: ' + str(len(indices)))\n",
    "    for i in range(0, 5):#range(0, len(indices)):\n",
    "        print(str(indices[i]) + ', x: ' + str(point_cloud[indices[i]][0]) + ', y : ' +\n",
    "              str(point_cloud[indices[i]][1]) + ', z : ' + str(point_cloud[indices[i]][2]))\n",
    "\n",
    "    inliers = point_cloud.extract(indices, negative=False)\n",
    "    outliers = point_cloud.extract(indices, negative=True)\n",
    "\n",
    "    return indices, inliers, outliers"
   ]
  },
  {
   "cell_type": "markdown",
   "metadata": {},
   "source": [
    "### Setup"
   ]
  },
  {
   "cell_type": "code",
   "execution_count": 4,
   "metadata": {},
   "outputs": [],
   "source": [
    "rospy.init_node('Realsense')\n",
    "mode     = \"pointcloud\"\n",
    "camera   = RealsenseD435i(mode=mode)\n",
    "name = \"1025\"\n"
   ]
  },
  {
   "cell_type": "markdown",
   "metadata": {},
   "source": [
    "### RANSAC"
   ]
  },
  {
   "cell_type": "code",
   "execution_count": 5,
   "metadata": {},
   "outputs": [
    {
     "name": "stdout",
     "output_type": "stream",
     "text": [
      "<PointCloud of 115002 points>\n",
      "(18150, 4)\n"
     ]
    }
   ],
   "source": [
    "point = ros_to_pcl(camera.point_cloud)\n",
    "print(point)\n",
    "cloud_voxel = do_voxel_grid_downssampling(point, 0.01)\n",
    "cloud_pass_z = do_passthrough(cloud_voxel, 'x', axis_min=0.01, axis_max=1.5)\n",
    "\n",
    "outliner_object = do_ransac_plane_segmentation(cloud_pass_z,pcl.SACMODEL_PLANE,pcl.SAC_RANSAC,0.01)\n",
    "outliner_object = outliner_object.to_array()\n",
    "print(outliner_object.shape)"
   ]
  },
  {
   "cell_type": "code",
   "execution_count": null,
   "metadata": {},
   "outputs": [],
   "source": []
  }
 ],
 "metadata": {
  "kernelspec": {
   "display_name": "Python 3.8.8 64-bit ('nerf': pyenv)",
   "language": "python",
   "name": "python3"
  },
  "language_info": {
   "codemirror_mode": {
    "name": "ipython",
    "version": 3
   },
   "file_extension": ".py",
   "mimetype": "text/x-python",
   "name": "python",
   "nbconvert_exporter": "python",
   "pygments_lexer": "ipython3",
   "version": "3.8.8"
  },
  "orig_nbformat": 4,
  "vscode": {
   "interpreter": {
    "hash": "74464942be70da753c6a9d0aa20a75922bf11824b16ef526340312608c9991ae"
   }
  }
 },
 "nbformat": 4,
 "nbformat_minor": 2
}
