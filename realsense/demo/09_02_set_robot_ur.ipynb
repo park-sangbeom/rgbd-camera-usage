{
 "cells": [
  {
   "attachments": {},
   "cell_type": "markdown",
   "metadata": {},
   "source": [
    "## define `Robot structure` Class"
   ]
  },
  {
   "cell_type": "code",
   "execution_count": 1,
   "metadata": {},
   "outputs": [
    {
     "name": "stdout",
     "output_type": "stream",
     "text": [
      "Done.\n"
     ]
    }
   ],
   "source": [
    "import numpy as np \n",
    "import rospy \n",
    "import os \n",
    "import sys\n",
    "sys.path.append(\"..\")\n",
    "from kinematics.class_structure import CHAIN\n",
    "\n",
    "print(\"Done.\")"
   ]
  },
  {
   "cell_type": "code",
   "execution_count": 2,
   "metadata": {},
   "outputs": [],
   "source": [
    "import numpy as np \n",
    "import sys\n",
    "sys.path.append(\"..\")\n",
    "from kinematics.utils.util_fk import *\n",
    "from kinematics.utils.util_ik import * \n",
    "from kinematics.utils.util_structure import * \n",
    "from kinematics.utils.util_parser import PARSER \n",
    "from kinematics.utils.config import CONFIG \n",
    "\n",
    "class CAPSULE():\n",
    "    def __init__(self, \n",
    "                 scale=[], \n",
    "                 cap_radius = float(0), \n",
    "                 cap_height = float(0), \n",
    "                 cap_p      = column_v(0,0,0), \n",
    "                 cap_R      = rot_e(), \n",
    "                 cap_center_p = column_v(0, 0, 0), \n",
    "                 cap_size     = column_v(0,0,0), \n",
    "                 cap_t_offset =np.eye(4)):\n",
    "\n",
    "        self.scale    = scale \n",
    "        self.radius   = cap_radius\n",
    "        self.height   = cap_height\n",
    "        self.p        = cap_p\n",
    "        self.R        = cap_R\n",
    "        self.center_p = cap_center_p\n",
    "        self.size     = cap_size\n",
    "        self.T_offset = cap_t_offset\n",
    "    \n",
    "\n",
    "class JOINT():\n",
    "    def __init__(self, \n",
    "                 name   = str('joint'), \n",
    "                 id     = int(0), \n",
    "                 mother = 0, \n",
    "                 child  =[0], \n",
    "                 q      = float(0), \n",
    "                 a = column_v(1,1,1), \n",
    "                 b = column_v(0,0,0),\n",
    "                 p = column_v(0,0,0), \n",
    "                 R = rot_e(), \n",
    "                 R_offset = Rotation_E(), \n",
    "                 dq = float(0), \n",
    "                 type =''):\n",
    "\n",
    "        self.name     = name \n",
    "        self.id       = id \n",
    "        self.mother   = mother\n",
    "        self.child    = child \n",
    "        self.q        = q\n",
    "        self.a        = a \n",
    "        self.b        = b \n",
    "        self.p        = p \n",
    "        self.R        = R \n",
    "        self.R_offset = R_offset\n",
    "        self.dq       = dq \n",
    "        self.type     = type\n",
    "\n",
    "\n",
    "class LINK(CAPSULE):\n",
    "    def __init__(self, \n",
    "                 name       = str('link'), \n",
    "                 joint_id   = int(0), \n",
    "                 joint_name = str('mother_joint'), \n",
    "                 P_offset     = column_v(0,0,0), \n",
    "                 R_offset     = rot_e(), \n",
    "                 cap_center_p = column_v(0, 0, 0),\n",
    "                 scale= [] , \n",
    "                 cap_radius   = float(0), \n",
    "                 cap_height   = float(0), \n",
    "                 cap_t_offset = np.eye(4),\n",
    "                 mesh_path    = str('path'), \n",
    "                 cap_p = column_v(0,0,0), \n",
    "                 cap_R = rot_e(), \n",
    "                 color = \"0.2 0.2 0.2 1\", \n",
    "                 collision_type = \"mesh\", \n",
    "                 cap_size       = column_v(0,0,0)):\n",
    "        CAPSULE.__init__(self, scale, cap_radius, cap_height, cap_p, cap_R, cap_center_p, cap_size, cap_t_offset)\n",
    "\n",
    "        self.name           = name \n",
    "        self.joint_id       = joint_id \n",
    "        self.joint_name     = joint_name \n",
    "        self.P_offset       = P_offset\n",
    "        self.R_offset       = R_offset \n",
    "        self.mesh_path      = mesh_path \n",
    "        self.color          = color \n",
    "        self.collision_type = collision_type\n",
    "\n",
    "        # Capsule \n",
    "        self.cap = CAPSULE()\n",
    "        self.cap.scale  = scale\n",
    "        self.cap.radius = cap_radius \n",
    "        self.cap.height = cap_height\n",
    "        self.cap.p      = cap_p\n",
    "        self.cap.R      = cap_R\n",
    "        self.cap.size   = cap_size #In case of box type\n",
    "        self.cap.T_offset = cap_t_offset #In case of mesh type\n",
    "        self.cap.center_p = cap_center_p #In case of mesh type\n",
    "\n",
    "class CHAIN:\n",
    "    def __init__(self, file_name=\"ir_gazebo/script/structure/utils/ur5e_onrobot.urdf\",\n",
    "                       base_offset=[0.1, 0, 0.5], \n",
    "                       verbose=False):\n",
    "        self.parser = PARSER(file_name)\n",
    "        self.joint  = []\n",
    "        self.link   = [] \n",
    "        self.base_offset = base_offset\n",
    "        self.verbose = verbose\n",
    "\n",
    "    def fk_chain(self, idx_to):\n",
    "        if idx_to == 0:\n",
    "            joint_to = self.joint[idx_to]\n",
    "            link_to  = self.link[idx_to]\n",
    "            p = joint_to.b\n",
    "            r = joint_to.R\n",
    "            T_capsule = np.matmul(pr2t(p, r) ,link_to.T_offset)\n",
    "            link_to.cap.center_p = t2p(T_capsule)\n",
    "            return None \n",
    "        idx_fr = self.joint[idx_to-1].mother \n",
    "        if idx_fr != 0:\n",
    "            link_fr  = self.link[idx_fr-1]\n",
    "            link_to  = self.link[idx_to-1]\n",
    "            joint_fr = self.joint[idx_fr-1]\n",
    "            joint_to = self.joint[idx_to-1]\n",
    "            joint_to.p = (np.matmul(joint_fr.R, joint_to.b) + joint_fr.p).astype(float)\n",
    "            link_to.cap.p = joint_to.p + link_fr.P_offset \n",
    "\n",
    "            if (joint_to.a == column_v(1,1,1)).all():\n",
    "                joint_to.R = np.matmul(joint_fr.R, joint_to.R_offset)\n",
    "            else:   \n",
    "                joint_fr_after = np.matmul(joint_fr.R, joint_to.R_offset)\n",
    "                joint_to.R = np.matmul(joint_fr_after, rodrigues(joint_to.a, joint_to.q)).astype(float)\n",
    "\n",
    "            T_capsule = np.matmul(pr2t(joint_to.p, joint_to.R) ,link_to.T_offset)\n",
    "            link_to.cap.center_p = t2p(T_capsule)\n",
    "            link_to.cap.R = t2r(T_capsule)\n",
    "\n",
    "        for child_idx in self.joint[idx_to-1].child:\n",
    "            self.fk_chain(child_idx)\n",
    "\n",
    "    # Inverse Kinematics LM\n",
    "    def aug_inverse_kinmatics_LM(self, variables, wn_pos, wn_ang):\n",
    "        ctrl_num = variables[\"joint_ctrl_num\"]\n",
    "        # Get revolute_joint for IK \n",
    "        rev_joi    = get_rev_joi_chain(self.joint, ctrl_num)\n",
    "        J, err, we = get_aug_ik_ingredients(self.joint, variables, wn_pos, wn_ang)\n",
    "        self.fk_chain(1)\n",
    "        Ek = np.matmul(err.T, we) \n",
    "        Ek = np.matmul(Ek, err) \n",
    "        while True: \n",
    "            dq, _ = damped_ls(J, err)\n",
    "            move_joints(self.joint, rev_joi, dq)\n",
    "            self.fk_chain(1)\n",
    "            J, err, _ = get_aug_ik_ingredients(self.joint, variables) \n",
    "            Ek2 = np.matmul(err.T, we)\n",
    "            Ek2 = np.matmul(Ek2, err)\n",
    "            if Ek2 < 1e-12:\n",
    "                break\n",
    "            elif Ek2 < Ek:\n",
    "                Ek = Ek2 \n",
    "            else: \n",
    "                move_joints(self.joint, rev_joi, -dq) #revert\n",
    "                self.fk_chain(1)\n",
    "                break \n",
    "\n",
    "    # IK Solver\n",
    "    def get_q_from_ik(self, variable, _wn_pos=1/0.3, _wn_ang=1/(2*np.math.pi)):\n",
    "        self.fk_chain(1)\n",
    "        self.aug_inverse_kinmatics_LM(variable, _wn_pos, _wn_ang)\n",
    "        q_list = get_q_chain(self.joint)\n",
    "        return q_list \n",
    "\n",
    "    # Add joint to robot \n",
    "    def add_joi_to_robot(self):\n",
    "        # Other joints      \n",
    "        for idx, joint in enumerate(self.parser.joint): \n",
    "            if idx == 0: \n",
    "                self.joint.append(JOINT(name=joint['name'], \n",
    "                                            id=joint['id'], \n",
    "                                            mother = self.parser.get_mother(joint['parent']), \n",
    "                                            child=self.parser.get_child_joint_tree(joint[\"child\"]), q=0, \n",
    "                                            a=column(joint['axis']), \n",
    "                                            b=column(joint['xyz']), \n",
    "                                            p=column_v(self.base_offset[0], \n",
    "                                                       self.base_offset[1],\n",
    "                                                       self.base_offset[2]), # Attached position offset from the world \n",
    "                                            R=np.eye(3), \n",
    "                                            R_offset=make_rotation(rad=joint['rpy']),\n",
    "                                            type=joint['type']))          \n",
    "            \n",
    "            else: \n",
    "                self.joint.append(JOINT(name=joint['name'], \n",
    "                                            id=joint['id'], \n",
    "                                            mother = self.parser.get_mother(joint['parent']), \n",
    "                                            child=self.parser.get_child_joint_tree(joint[\"child\"]), q=0, \n",
    "                                            a=column(joint['axis']), \n",
    "                                            b=column(joint['xyz']), \n",
    "                                            p=column_v(0, 0, 0), \n",
    "                                            R=np.eye(3), \n",
    "                                            R_offset=make_rotation(rad=joint['rpy']),\n",
    "                                            type=joint['type']))   \n",
    "                                             \n",
    "\n",
    "        \"\"\" Verbose Function \"\"\"\n",
    "        if self.verbose:\n",
    "            for joi in self.joint: \n",
    "                print(\"Name: {}, ID: {}, Mother_joint: {}, Child_joint: {}, Type: {}, Axis: {}, B_offset:{}\".\n",
    "                    format(joi.name.ljust(35), str(joi.id).ljust(2), str(joi.mother).ljust(2), \n",
    "                           str(joi.child).ljust(11), joi.type.ljust(10), str(joi.a.T).ljust(16), \n",
    "                           str(joi.b.T).ljust(5)))\n",
    "                print(\"Current Position: {}\\nCurrent Rotation: \\n{}\\n\".format(joi.p.T, joi.R))         \n",
    "\n",
    "    def add_link_to_robot(self):\n",
    "        \"\"\" CONNECT LINK TREE \"\"\"\n",
    "        for link, capsule in zip(self.parser.link, CONFIG[\"capsule\"]):\n",
    "            self.link.append(LINK(name=link['name'], \n",
    "                                        joint_id   = self.parser.get_link_joint_id(link['name']), \n",
    "                                        joint_name = self.parser.get_link_joint_name(link['name']), \n",
    "                                        P_offset   = column(link[\"P_offset\"]), \n",
    "                                        R_offset   = make_rotation(rad=link[\"R_offset\"]), \n",
    "                                        scale      = link['scale'], \n",
    "                                        mesh_path  = link[\"filepath\"], \n",
    "                                        collision_type = link[\"collision_type\"], \n",
    "                                        cap_p        = column_v(0.0, 0.0, 0.0), \n",
    "                                        cap_R        = np.eye(3),\n",
    "                                        cap_radius   = capsule[\"radius\"],\n",
    "                                        cap_size     = capsule[\"size\"],\n",
    "                                        cap_t_offset = capsule[\"T_offset\"],\n",
    "                                        cap_center_p = column_v(0.0, 0.0, 0.0),\n",
    "                                        cap_height   = capsule[\"height\"],\n",
    "                                        color        = get_color_from_urdf(link['color'])))\n",
    "        self.fk_chain(1)\n",
    "        # CONNECT ALL JOINT/LINKS TO THE ROBOT \n",
    "        if self.verbose:\n",
    "            print('len_link', len(self.link))\n",
    "            for link in self.link:\n",
    "                print(\"Name: {}, Connected Joint ID: {}, Connected Joint name: {}, \\nMesh Path: {}, \\\n",
    "                    \\nCollision Type: {}, Radius: {}, Heihgt: {}, Cap_Position: {}, \\nCenter Position: {}\\n\".\n",
    "                    format(link.name.ljust(30), str(link.joint_id).ljust(2), link.joint_name.ljust(30), \n",
    "                           link.mesh_path, link.collision_type, str(link.radius).ljust(10), str(link.height).ljust(10), \n",
    "                           link.cap.p.T, link.cap.center_p))\n",
    "\n"
   ]
  },
  {
   "attachments": {},
   "cell_type": "markdown",
   "metadata": {},
   "source": [
    "### Load pre-defined `UR5e` robot `urdf`"
   ]
  },
  {
   "cell_type": "code",
   "execution_count": 24,
   "metadata": {},
   "outputs": [],
   "source": [
    "file_name = \"../../urdf/ur5e_onrobot.urdf\"\n",
    "chain = CHAIN(file_name=file_name, base_offset=[0.18,0,0.79], verbose=False)\n",
    "chain.add_joi_to_robot()\n",
    "chain.add_joi_to_robot()\n",
    "chain.add_link_to_robot()\n",
    "\n",
    "# chain.fk_chain(1)\n"
   ]
  },
  {
   "attachments": {},
   "cell_type": "markdown",
   "metadata": {},
   "source": [
    "## Set `UR5` Robot"
   ]
  },
  {
   "cell_type": "code",
   "execution_count": 25,
   "metadata": {},
   "outputs": [
    {
     "name": "stdout",
     "output_type": "stream",
     "text": [
      "Done.\n"
     ]
    }
   ],
   "source": [
    "import sys \n",
    "sys.path.append(\"..\")\n",
    "import cv2 \n",
    "from get_rostopic import RealsenseD435i\n",
    "import numpy as np \n",
    "import rospy \n",
    "import matplotlib.pyplot as plt \n",
    "from utils.utils_pcl import *\n",
    "from utils.utils_pointcloud import * \n",
    "print(\"Done.\")\n"
   ]
  },
  {
   "cell_type": "code",
   "execution_count": 26,
   "metadata": {},
   "outputs": [],
   "source": [
    "import rospy \n",
    "import time \n",
    "import numpy as np \n",
    "import message_filters\n",
    "from sensor_msgs.msg import JointState\n"
   ]
  },
  {
   "attachments": {},
   "cell_type": "markdown",
   "metadata": {},
   "source": [
    "### define `UR` Class"
   ]
  },
  {
   "cell_type": "code",
   "execution_count": 27,
   "metadata": {},
   "outputs": [],
   "source": [
    "class UR_Test():\n",
    "    def __init__(self):\n",
    "        self.tick = 0\n",
    "        self.joint_list = None \n",
    "        self.joint_sub = rospy.Subscriber('/joint_states', JointState, self.joint_callback) \n",
    "\n",
    "        tic_temp=0 \n",
    "\n",
    "        while self.tick<2: \n",
    "            time.sleep(1e-3)\n",
    "            tic_temp=tic_temp+1\n",
    "\n",
    "            if tic_temp>5000: \n",
    "                print (\"[ERROR] GET JOINTS\")\n",
    "                break \n",
    "            \n",
    "    def joint_callback(self, joint_msg):\n",
    "        \"\"\"\n",
    "            Get joint values about each joint.\n",
    "        \"\"\"\n",
    "        self.tick+=1 \n",
    "        self.joint_list = joint_msg \n",
    "\n",
    "    # def fk_chain(self, idx_to):\n",
    "    #     # self.joint_list = \n",
    "        \n",
    "    #     if idx_to == 0:\n",
    "    #         pass\n",
    "    #     elif idx_to != 0:\n",
    "    #         link_mother =  self.joint\n",
    "\n",
    "    #     return 0"
   ]
  },
  {
   "attachments": {},
   "cell_type": "markdown",
   "metadata": {},
   "source": [
    "#### before run below code, you should run this line `roslaunch ur_modern_driver ur5_bringup.launch robot_ip:=192.168.0.100`  in terminal."
   ]
  },
  {
   "cell_type": "code",
   "execution_count": 7,
   "metadata": {},
   "outputs": [
    {
     "name": "stdout",
     "output_type": "stream",
     "text": [
      "... logging to /home/rilab/.ros/log/729ee8d4-a85d-11ed-b717-c7cd5ec2be1a/roslaunch-rilab-XPS-15-9500-55372.log\n",
      "Checking log directory for disk usage. This may take a while.\n",
      "Press Ctrl-C to interrupt\n",
      "Done checking log file disk usage. Usage is <1GB.\n",
      "\u001b]2;/home/rilab/catkin_qd/src/ur_modern_driver/launch/ur5_bringup.launch\u0007\n",
      "xacro: in-order processing became default in ROS Melodic. You can drop the option.\n",
      "\u001b[1mstarted roslaunch server http://rilab-XPS-15-9500:40129/\u001b[0m\n",
      "\n",
      "SUMMARY\n",
      "========\n",
      "\n",
      "PARAMETERS\n",
      " * /robot_description: <?xml version=\"1....\n",
      " * /rosdistro: noetic\n",
      " * /rosversion: 1.15.15\n",
      " * /ur_driver/base_frame: base\n",
      " * /ur_driver/max_payload: 5.0\n",
      " * /ur_driver/max_velocity: 10.0\n",
      " * /ur_driver/min_payload: 0.0\n",
      " * /ur_driver/prefix: \n",
      " * /ur_driver/robot_ip_address: 192.168.0.100\n",
      " * /ur_driver/servoj_time: 0.008\n",
      " * /ur_driver/tool_frame: tool0_controller\n",
      "\n",
      "NODES\n",
      "  /\n",
      "    robot_state_publisher (robot_state_publisher/robot_state_publisher)\n",
      "    ur_driver (ur_modern_driver/ur_driver)\n",
      "\n",
      "auto-starting new master\n",
      "\u001b[1mprocess[master]: started with pid [55407]\u001b[0m\n",
      "^C\n",
      "[master] killing on exit\n"
     ]
    }
   ],
   "source": [
    "!roslaunch ur_modern_driver ur5_bringup.launch robot_ip:=192.168.0.100"
   ]
  },
  {
   "cell_type": "code",
   "execution_count": 29,
   "metadata": {},
   "outputs": [],
   "source": [
    "p = chain.joint[2].p\n",
    "R = chain.joint[2].R"
   ]
  },
  {
   "cell_type": "code",
   "execution_count": 5,
   "metadata": {},
   "outputs": [
    {
     "name": "stdout",
     "output_type": "stream",
     "text": [
      "(-1.5739653746234339, -2.314601560632223, 2.145999256764547, 1.740140123958252, 0.7839429378509521, -1.5683963934527796)\n"
     ]
    }
   ],
   "source": [
    "rospy.init_node('test')\n",
    "ur_test = UR_Test()\n",
    "\n",
    "print(ur_test.joint_list.position)\n",
    "joint_value = ur_test.joint_list.position"
   ]
  },
  {
   "cell_type": "code",
   "execution_count": null,
   "metadata": {},
   "outputs": [],
   "source": [
    "for i in range(len(joint_value)):\n",
    "    chain.joint[i].q = joint_value[i]\n",
    "    print(chain.joint[i].q)\n",
    "\n",
    "# forward kinematics: correspond to each joint values.\n",
    "chain.fk_chain(1)\n"
   ]
  },
  {
   "cell_type": "code",
   "execution_count": null,
   "metadata": {},
   "outputs": [],
   "source": [
    "cv2.hconcat((R, p))"
   ]
  },
  {
   "cell_type": "code",
   "execution_count": 31,
   "metadata": {},
   "outputs": [
    {
     "data": {
      "text/plain": [
       "array([[ 4.89658886e-12,  0.00000000e+00,  1.00000000e+00,\n",
       "         1.80000000e-01],\n",
       "       [ 0.00000000e+00,  1.00000000e+00,  0.00000000e+00,\n",
       "         1.38000000e-01],\n",
       "       [-1.00000000e+00,  0.00000000e+00,  4.89658886e-12,\n",
       "         9.53000000e-01]])"
      ]
     },
     "execution_count": 31,
     "metadata": {},
     "output_type": "execute_result"
    }
   ],
   "source": [
    "T_ = cv2.hconcat((R, p))\n",
    "T_"
   ]
  },
  {
   "cell_type": "code",
   "execution_count": null,
   "metadata": {},
   "outputs": [],
   "source": [
    "R_cam_joint = chain.joint[len(joint_value)-1].R\n",
    "p_cam_joint = chain.joint[len(joint_value-1)].p\n",
    "\n",
    "T_cam_joint = cv2.hconcat((R_cam_joint, p_cam_joint))"
   ]
  },
  {
   "cell_type": "code",
   "execution_count": null,
   "metadata": {},
   "outputs": [],
   "source": []
  }
 ],
 "metadata": {
  "kernelspec": {
   "display_name": "Python 3",
   "language": "python",
   "name": "python3"
  },
  "language_info": {
   "codemirror_mode": {
    "name": "ipython",
    "version": 3
   },
   "file_extension": ".py",
   "mimetype": "text/x-python",
   "name": "python",
   "nbconvert_exporter": "python",
   "pygments_lexer": "ipython3",
   "version": "3.8.10 (default, Nov 14 2022, 12:59:47) \n[GCC 9.4.0]"
  },
  "orig_nbformat": 4,
  "vscode": {
   "interpreter": {
    "hash": "e7370f93d1d0cde622a1f8e1c04877d8463912d04d973331ad4851f04de6915a"
   }
  }
 },
 "nbformat": 4,
 "nbformat_minor": 2
}
