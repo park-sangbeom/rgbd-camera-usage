{
 "cells": [
  {
   "cell_type": "code",
   "execution_count": 9,
   "metadata": {},
   "outputs": [
    {
     "name": "stdout",
     "output_type": "stream",
     "text": [
      "Done.\n"
     ]
    }
   ],
   "source": [
    "import sys \n",
    "sys.path.append(\"..\")\n",
    "import cv2 \n",
    "from get_rostopic import ZED\n",
    "import numpy as np \n",
    "import rospy \n",
    "from utils.pcl_helper import * \n",
    "from utils.utils_pointcloud import * \n",
    "print(\"Done.\")\n"
   ]
  },
  {
   "cell_type": "markdown",
   "metadata": {},
   "source": [
    "### Get Pointcloud data "
   ]
  },
  {
   "cell_type": "code",
   "execution_count": null,
   "metadata": {},
   "outputs": [],
   "source": [
    "rospy.init_node('ZED')\n",
    "mode     = \"pointcloud\"\n",
    "camera   = ZED(mode=mode)\n",
    "pcl_data = ros_to_pcl(camera.point_cloud)\n",
    "print(\"Type: {}\".format(type(pcl_data)))\n",
    "numpy_data = ros_to_numpy(camera.point_cloud)\n",
    "print(\"Type: {}\".format(type(pcl_data)))\n"
   ]
  }
 ],
 "metadata": {
  "kernelspec": {
   "display_name": "Python 3.8.10 64-bit",
   "language": "python",
   "name": "python3"
  },
  "language_info": {
   "codemirror_mode": {
    "name": "ipython",
    "version": 3
   },
   "file_extension": ".py",
   "mimetype": "text/x-python",
   "name": "python",
   "nbconvert_exporter": "python",
   "pygments_lexer": "ipython3",
   "version": "3.8.10"
  },
  "orig_nbformat": 4,
  "vscode": {
   "interpreter": {
    "hash": "916dbcbb3f70747c44a77c7bcd40155683ae19c65e1c03b4aa3499c5328201f1"
   }
  }
 },
 "nbformat": 4,
 "nbformat_minor": 2
}
