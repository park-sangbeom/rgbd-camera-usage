{
 "cells": [
  {
   "cell_type": "code",
   "execution_count": 1,
   "metadata": {},
   "outputs": [
    {
     "name": "stdout",
     "output_type": "stream",
     "text": [
      "Running Depth Sensing sample ... Press 'Esc' to quit\n",
      "CAMERA NOT DETECTED\n"
     ]
    },
    {
     "name": "stderr",
     "output_type": "stream",
     "text": [
      "\n",
      "KeyboardInterrupt\n",
      "\n"
     ]
    },
    {
     "ename": "",
     "evalue": "",
     "output_type": "error",
     "traceback": [
      "\u001b[1;31mThe Kernel crashed while executing code in the the current cell or a previous cell. Please review the code in the cell(s) to identify a possible cause of the failure. Click <a href='https://aka.ms/vscodeJupyterKernelCrash'>here</a> for more info. View Jupyter <a href='command:jupyter.viewOutput'>log</a> for further details."
     ]
    }
   ],
   "source": [
    "import sys\n",
    "sys.path.append(\"..\")\n",
    "import utils.zed_viewer as gl\n",
    "import pyzed.sl as sl\n",
    "\n",
    "if __name__ == \"__main__\":\n",
    "    print(\"Running Depth Sensing sample ... Press 'Esc' to quit\")\n",
    "\n",
    "    init = sl.InitParameters(camera_resolution=sl.RESOLUTION.HD720,\n",
    "                                 depth_mode=sl.DEPTH_MODE.ULTRA,\n",
    "                                 coordinate_units=sl.UNIT.METER,\n",
    "                                 coordinate_system=sl.COORDINATE_SYSTEM.RIGHT_HANDED_Y_UP)\n",
    "    zed = sl.Camera()\n",
    "    status = zed.open(init)\n",
    "    if status != sl.ERROR_CODE.SUCCESS:\n",
    "        print(repr(status))\n",
    "        exit()\n",
    "\n",
    "    res = sl.Resolution()\n",
    "    res.width = 720\n",
    "    res.height = 404\n",
    "\n",
    "    camera_model = zed.get_camera_information().camera_model\n",
    "    # Create OpenGL viewer\n",
    "    viewer = gl.GLViewer()\n",
    "    viewer.init(len(sys.argv), sys.argv, camera_model, res)\n",
    "\n",
    "    point_cloud = sl.Mat(res.width, res.height, sl.MAT_TYPE.F32_C4, sl.MEM.CPU)\n",
    "\n",
    "    while viewer.is_available():\n",
    "        if zed.grab() == sl.ERROR_CODE.SUCCESS:\n",
    "            zed.retrieve_measure(point_cloud, sl.MEASURE.XYZRGBA,sl.MEM.CPU, res)\n",
    "            viewer.updateData(point_cloud)\n",
    "\n",
    "    viewer.exit()\n",
    "    zed.close()"
   ]
  },
  {
   "cell_type": "code",
   "execution_count": 1,
   "metadata": {},
   "outputs": [
    {
     "name": "stdout",
     "output_type": "stream",
     "text": [
      "FAILURE\n",
      "  Quit : CTRL+C\n",
      "\n"
     ]
    },
    {
     "ename": "KeyboardInterrupt",
     "evalue": "",
     "output_type": "error",
     "traceback": [
      "\u001b[0;31m---------------------------------------------------------------------------\u001b[0m",
      "\u001b[0;31mKeyboardInterrupt\u001b[0m                         Traceback (most recent call last)",
      "\u001b[1;32m/home/sangbeom/camera-usage/zed/demo/02.pyzed.ipynb Cell 2\u001b[0m in \u001b[0;36m<cell line: 41>\u001b[0;34m()\u001b[0m\n\u001b[1;32m     <a href='vscode-notebook-cell://ssh-remote%2B163.152.162.94/home/sangbeom/camera-usage/zed/demo/02.pyzed.ipynb#W1sdnNjb2RlLXJlbW90ZQ%3D%3D?line=38'>39</a>\u001b[0m     cam\u001b[39m.\u001b[39mclose()\n\u001b[1;32m     <a href='vscode-notebook-cell://ssh-remote%2B163.152.162.94/home/sangbeom/camera-usage/zed/demo/02.pyzed.ipynb#W1sdnNjb2RlLXJlbW90ZQ%3D%3D?line=40'>41</a>\u001b[0m \u001b[39mif\u001b[39;00m \u001b[39m__name__\u001b[39m \u001b[39m==\u001b[39m \u001b[39m\"\u001b[39m\u001b[39m__main__\u001b[39m\u001b[39m\"\u001b[39m:\n\u001b[0;32m---> <a href='vscode-notebook-cell://ssh-remote%2B163.152.162.94/home/sangbeom/camera-usage/zed/demo/02.pyzed.ipynb#W1sdnNjb2RlLXJlbW90ZQ%3D%3D?line=41'>42</a>\u001b[0m     main()\n",
      "\u001b[1;32m/home/sangbeom/camera-usage/zed/demo/02.pyzed.ipynb Cell 2\u001b[0m in \u001b[0;36mmain\u001b[0;34m()\u001b[0m\n\u001b[1;32m     <a href='vscode-notebook-cell://ssh-remote%2B163.152.162.94/home/sangbeom/camera-usage/zed/demo/02.pyzed.ipynb#W1sdnNjb2RlLXJlbW90ZQ%3D%3D?line=34'>35</a>\u001b[0m         key \u001b[39m=\u001b[39m cv2\u001b[39m.\u001b[39mwaitKey(\u001b[39m1\u001b[39m)\n\u001b[1;32m     <a href='vscode-notebook-cell://ssh-remote%2B163.152.162.94/home/sangbeom/camera-usage/zed/demo/02.pyzed.ipynb#W1sdnNjb2RlLXJlbW90ZQ%3D%3D?line=35'>36</a>\u001b[0m     \u001b[39melse\u001b[39;00m :\n\u001b[0;32m---> <a href='vscode-notebook-cell://ssh-remote%2B163.152.162.94/home/sangbeom/camera-usage/zed/demo/02.pyzed.ipynb#W1sdnNjb2RlLXJlbW90ZQ%3D%3D?line=36'>37</a>\u001b[0m         key \u001b[39m=\u001b[39m cv2\u001b[39m.\u001b[39;49mwaitKey(\u001b[39m1\u001b[39;49m)\n\u001b[1;32m     <a href='vscode-notebook-cell://ssh-remote%2B163.152.162.94/home/sangbeom/camera-usage/zed/demo/02.pyzed.ipynb#W1sdnNjb2RlLXJlbW90ZQ%3D%3D?line=38'>39</a>\u001b[0m cam\u001b[39m.\u001b[39mclose()\n",
      "\u001b[0;31mKeyboardInterrupt\u001b[0m: "
     ]
    }
   ],
   "source": []
  },
  {
   "cell_type": "code",
   "execution_count": null,
   "metadata": {},
   "outputs": [],
   "source": []
  }
 ],
 "metadata": {
  "kernelspec": {
   "display_name": "Python 3.8.10 64-bit",
   "language": "python",
   "name": "python3"
  },
  "language_info": {
   "codemirror_mode": {
    "name": "ipython",
    "version": 3
   },
   "file_extension": ".py",
   "mimetype": "text/x-python",
   "name": "python",
   "nbconvert_exporter": "python",
   "pygments_lexer": "ipython3",
   "version": "3.8.10"
  },
  "orig_nbformat": 4,
  "vscode": {
   "interpreter": {
    "hash": "e7370f93d1d0cde622a1f8e1c04877d8463912d04d973331ad4851f04de6915a"
   }
  }
 },
 "nbformat": 4,
 "nbformat_minor": 2
}
